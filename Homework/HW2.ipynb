{
  "nbformat": 4,
  "nbformat_minor": 0,
  "metadata": {
    "colab": {
      "name": "Untitled0.ipynb",
      "version": "0.3.2",
      "provenance": []
    },
    "kernelspec": {
      "name": "python3",
      "display_name": "Python 3"
    },
    "accelerator": "GPU"
  },
  "cells": [
    {
      "metadata": {
        "id": "b8c63xQjFvBy",
        "colab_type": "text"
      },
      "cell_type": "markdown",
      "source": [
        "# ANLY 590 Assignment 2"
      ]
    },
    {
      "metadata": {
        "id": "f19FTu-jF033",
        "colab_type": "text"
      },
      "cell_type": "markdown",
      "source": [
        "## 1. Autoencoder"
      ]
    },
    {
      "metadata": {
        "id": "JACyPCU_F5lQ",
        "colab_type": "text"
      },
      "cell_type": "markdown",
      "source": [
        "A convolutional autoencoder is a particular flavor of autoencoder where we\n",
        "use convolutional layers instead of dense layers. We have previously applied\n",
        "autoencoders to images using only Dense layers and the result worked fairly\n",
        "well. However, the local spatial correlations of images imply that we should be\n",
        "able to do better using convolutional layers instead of Dense layers.\n",
        "\n",
        "Build and fit a convolutional autoencoder for the Fashion MNIST dataset.\n",
        "The components of this network will be many of the same pieces we’ve used\n",
        "with convolutional classification networks: Conv2D, MaxPooling, and so on.\n",
        "The encoder part of the network should run the input image through a few\n",
        "convolutional layers of your choice. The decoder part of the network will utilize\n",
        "UpSampling2D to get the representation back to the original image size.\n",
        "\n",
        "An example to guide your thinking can be found toward the bottom of this\n",
        "post https://blog.keras.io/building-autoencoders-in-keras.html.\n",
        "\n",
        "After training your network, visualize some examples of input images and\n",
        "their decoded reconstruction."
      ]
    },
    {
      "metadata": {
        "id": "wasre8JRF_G2",
        "colab_type": "code",
        "colab": {
          "base_uri": "https://localhost:8080/",
          "height": 34
        },
        "outputId": "fa9e2fcf-c342-4fa4-d50f-146f9709526e"
      },
      "cell_type": "code",
      "source": [
        "from keras.layers import Input, Dense,Conv1D, Conv2D, MaxPooling2D, UpSampling2D, Flatten, Dropout, Reshape, Embedding, LSTM, GlobalMaxPooling1D\n",
        "from keras.models import Model\n",
        "from keras.models import Sequential\n",
        "from keras import backend as K\n",
        "from keras import utils, optimizers\n",
        "from keras.utils.np_utils import to_categorical\n",
        "from keras.datasets import fashion_mnist\n",
        "import numpy as np\n",
        "from keras.callbacks import TensorBoard\n",
        "import matplotlib.pyplot as plt\n",
        "from keras.applications.vgg16 import VGG16\n",
        "from keras.applications.vgg16 import preprocess_input\n",
        "from keras.optimizers import SGD, RMSprop\n",
        "from keras.preprocessing.text import Tokenizer\n",
        "from keras.preprocessing.sequence import pad_sequences\n",
        "import cv2\n",
        "import pandas as pd\n",
        "import requests\n",
        "from sklearn.model_selection import train_test_split\n",
        "from sklearn.metrics import roc_curve, auc"
      ],
      "execution_count": 1,
      "outputs": [
        {
          "output_type": "stream",
          "text": [
            "Using TensorFlow backend.\n"
          ],
          "name": "stderr"
        }
      ]
    },
    {
      "metadata": {
        "id": "ucxVqGv3GSoP",
        "colab_type": "code",
        "colab": {}
      },
      "cell_type": "code",
      "source": [
        "input_img = Input(shape=(28, 28, 1))\n",
        "\n",
        "x = Conv2D(16, (3, 3), activation='relu', padding='same')(input_img)\n",
        "x = MaxPooling2D((2, 2), padding='same')(x)\n",
        "x = Conv2D(16, (3, 3), activation='relu', padding='same')(x)\n",
        "x = MaxPooling2D((2, 2), padding='same')(x)\n",
        "x = Conv2D(32, (3, 3), activation='relu', padding='same')(x)\n",
        "encoded = MaxPooling2D((2, 2), padding='same')(x)\n",
        "\n",
        "\n",
        "x = Conv2D(32, (3, 3), activation='relu', padding='same')(encoded)\n",
        "x = UpSampling2D((2, 2))(x)\n",
        "x = Conv2D(16, (3, 3), activation='relu', padding='same')(x)\n",
        "x = UpSampling2D((2, 2))(x)\n",
        "x = Conv2D(16, (3, 3), activation='relu')(x)\n",
        "x = UpSampling2D((2, 2))(x)\n",
        "decoded = Conv2D(1, (3, 3), activation='sigmoid', padding='same')(x)\n",
        "\n",
        "autoencoder = Model(input_img, decoded)\n",
        "autoencoder.compile(optimizer='adadelta', loss='binary_crossentropy')"
      ],
      "execution_count": 0,
      "outputs": []
    },
    {
      "metadata": {
        "id": "fpiKUwcNGXCk",
        "colab_type": "code",
        "colab": {
          "base_uri": "https://localhost:8080/",
          "height": 153
        },
        "outputId": "6eff9648-66b4-4768-b068-84ba5e2e5f31"
      },
      "cell_type": "code",
      "source": [
        "(x_train, _), (x_test, _) = fashion_mnist.load_data()\n",
        "\n",
        "x_train = x_train.astype('float32') / 255.\n",
        "x_test = x_test.astype('float32') / 255.\n",
        "x_train = np.reshape(x_train, (len(x_train), 28, 28, 1)) \n",
        "x_test = np.reshape(x_test, (len(x_test), 28, 28, 1))"
      ],
      "execution_count": 3,
      "outputs": [
        {
          "output_type": "stream",
          "text": [
            "Downloading data from http://fashion-mnist.s3-website.eu-central-1.amazonaws.com/train-labels-idx1-ubyte.gz\n",
            "32768/29515 [=================================] - 0s 3us/step\n",
            "Downloading data from http://fashion-mnist.s3-website.eu-central-1.amazonaws.com/train-images-idx3-ubyte.gz\n",
            "26427392/26421880 [==============================] - 2s 0us/step\n",
            "Downloading data from http://fashion-mnist.s3-website.eu-central-1.amazonaws.com/t10k-labels-idx1-ubyte.gz\n",
            "8192/5148 [===============================================] - 0s 0us/step\n",
            "Downloading data from http://fashion-mnist.s3-website.eu-central-1.amazonaws.com/t10k-images-idx3-ubyte.gz\n",
            "4423680/4422102 [==============================] - 1s 0us/step\n"
          ],
          "name": "stdout"
        }
      ]
    },
    {
      "metadata": {
        "id": "iknwE2e_Gg1z",
        "colab_type": "code",
        "colab": {
          "base_uri": "https://localhost:8080/",
          "height": 1071
        },
        "outputId": "a5af8014-174f-4694-8e44-a6ca8201ece0"
      },
      "cell_type": "code",
      "source": [
        "autoencoder.fit(x_train, x_train,\n",
        "                epochs=30,\n",
        "                batch_size=128,\n",
        "                shuffle=True,\n",
        "                validation_data=(x_test, x_test),\n",
        "                callbacks=[TensorBoard(log_dir='/tmp/autoencoder')])"
      ],
      "execution_count": 4,
      "outputs": [
        {
          "output_type": "stream",
          "text": [
            "Train on 60000 samples, validate on 10000 samples\n",
            "Epoch 1/30\n",
            "60000/60000 [==============================] - 10s 159us/step - loss: 0.3560 - val_loss: 0.3156\n",
            "Epoch 2/30\n",
            "60000/60000 [==============================] - 8s 131us/step - loss: 0.3075 - val_loss: 0.3071\n",
            "Epoch 3/30\n",
            "60000/60000 [==============================] - 8s 129us/step - loss: 0.2983 - val_loss: 0.3020\n",
            "Epoch 4/30\n",
            "60000/60000 [==============================] - 8s 127us/step - loss: 0.2935 - val_loss: 0.2975\n",
            "Epoch 5/30\n",
            "60000/60000 [==============================] - 8s 126us/step - loss: 0.2903 - val_loss: 0.2913\n",
            "Epoch 6/30\n",
            "60000/60000 [==============================] - 7s 124us/step - loss: 0.2876 - val_loss: 0.2890\n",
            "Epoch 7/30\n",
            "60000/60000 [==============================] - 7s 123us/step - loss: 0.2858 - val_loss: 0.2872\n",
            "Epoch 8/30\n",
            "60000/60000 [==============================] - 8s 133us/step - loss: 0.2842 - val_loss: 0.2850\n",
            "Epoch 9/30\n",
            "60000/60000 [==============================] - 8s 127us/step - loss: 0.2829 - val_loss: 0.2854\n",
            "Epoch 10/30\n",
            "60000/60000 [==============================] - 8s 127us/step - loss: 0.2818 - val_loss: 0.2831\n",
            "Epoch 11/30\n",
            "60000/60000 [==============================] - 7s 122us/step - loss: 0.2807 - val_loss: 0.2824\n",
            "Epoch 12/30\n",
            "60000/60000 [==============================] - 7s 121us/step - loss: 0.2798 - val_loss: 0.2802\n",
            "Epoch 13/30\n",
            "60000/60000 [==============================] - 7s 123us/step - loss: 0.2791 - val_loss: 0.2806\n",
            "Epoch 14/30\n",
            "60000/60000 [==============================] - 7s 122us/step - loss: 0.2785 - val_loss: 0.2804\n",
            "Epoch 15/30\n",
            "60000/60000 [==============================] - 7s 121us/step - loss: 0.2778 - val_loss: 0.2804\n",
            "Epoch 16/30\n",
            "60000/60000 [==============================] - 7s 121us/step - loss: 0.2773 - val_loss: 0.2780\n",
            "Epoch 17/30\n",
            "60000/60000 [==============================] - 7s 121us/step - loss: 0.2766 - val_loss: 0.2786\n",
            "Epoch 18/30\n",
            "60000/60000 [==============================] - 7s 121us/step - loss: 0.2763 - val_loss: 0.2764\n",
            "Epoch 19/30\n",
            "60000/60000 [==============================] - 7s 122us/step - loss: 0.2757 - val_loss: 0.2782\n",
            "Epoch 20/30\n",
            "60000/60000 [==============================] - 7s 122us/step - loss: 0.2755 - val_loss: 0.2774\n",
            "Epoch 21/30\n",
            "60000/60000 [==============================] - 7s 122us/step - loss: 0.2751 - val_loss: 0.2766\n",
            "Epoch 22/30\n",
            "60000/60000 [==============================] - 7s 121us/step - loss: 0.2745 - val_loss: 0.2778\n",
            "Epoch 23/30\n",
            "60000/60000 [==============================] - 7s 122us/step - loss: 0.2742 - val_loss: 0.2758\n",
            "Epoch 24/30\n",
            "60000/60000 [==============================] - 7s 122us/step - loss: 0.2740 - val_loss: 0.2767\n",
            "Epoch 25/30\n",
            "60000/60000 [==============================] - 7s 121us/step - loss: 0.2737 - val_loss: 0.2749\n",
            "Epoch 26/30\n",
            "60000/60000 [==============================] - 7s 120us/step - loss: 0.2735 - val_loss: 0.2745\n",
            "Epoch 27/30\n",
            "60000/60000 [==============================] - 7s 121us/step - loss: 0.2731 - val_loss: 0.2747\n",
            "Epoch 28/30\n",
            "60000/60000 [==============================] - 7s 123us/step - loss: 0.2730 - val_loss: 0.2767\n",
            "Epoch 29/30\n",
            "60000/60000 [==============================] - 7s 124us/step - loss: 0.2727 - val_loss: 0.2749\n",
            "Epoch 30/30\n",
            "60000/60000 [==============================] - 7s 123us/step - loss: 0.2724 - val_loss: 0.2744\n"
          ],
          "name": "stdout"
        },
        {
          "output_type": "execute_result",
          "data": {
            "text/plain": [
              "<keras.callbacks.History at 0x7f79dcb0e4e0>"
            ]
          },
          "metadata": {
            "tags": []
          },
          "execution_count": 4
        }
      ]
    },
    {
      "metadata": {
        "id": "5fmxcWQ2HxJk",
        "colab_type": "code",
        "colab": {
          "base_uri": "https://localhost:8080/",
          "height": 244
        },
        "outputId": "77b4d4ff-9941-4698-e674-6956609e4cea"
      },
      "cell_type": "code",
      "source": [
        "decoded_imgs = autoencoder.predict(x_test)\n",
        "\n",
        "n = 10\n",
        "plt.figure(figsize=(20, 4))\n",
        "for i in range(n):\n",
        "    # display original\n",
        "    ax = plt.subplot(2, n, i+1)\n",
        "    plt.imshow(x_test[i].reshape(28, 28))\n",
        "    plt.gray()\n",
        "    ax.get_xaxis().set_visible(False)\n",
        "    ax.get_yaxis().set_visible(False)\n",
        "\n",
        "    # display reconstruction\n",
        "    ax = plt.subplot(2, n, i+n+1)\n",
        "    plt.imshow(decoded_imgs[i].reshape(28, 28))\n",
        "    plt.gray()\n",
        "    ax.get_xaxis().set_visible(False)\n",
        "    ax.get_yaxis().set_visible(False)\n",
        "plt.show()"
      ],
      "execution_count": 5,
      "outputs": [
        {
          "output_type": "display_data",
          "data": {
            "image/png": "[encoded data removed]",
            "text/plain": [
              "<matplotlib.figure.Figure at 0x7f79dcae47b8>"
            ]
          },
          "metadata": {
            "tags": []
          }
        }
      ]
    },
    {
      "metadata": {
        "id": "386EEjCWIViH",
        "colab_type": "text"
      },
      "cell_type": "markdown",
      "source": [
        "## 2. Image Classification"
      ]
    },
    {
      "metadata": {
        "id": "iE1DV6kVIaW7",
        "colab_type": "text"
      },
      "cell_type": "markdown",
      "source": [
        "We’ll continue to use the Fashion MNIST dataset and build a deep convolutional\n",
        "network for classification."
      ]
    },
    {
      "metadata": {
        "id": "SOvttMUGIgVQ",
        "colab_type": "text"
      },
      "cell_type": "markdown",
      "source": [
        "## 2.1. Deep CNN"
      ]
    },
    {
      "metadata": {
        "id": "NLcnBSPLIlsE",
        "colab_type": "text"
      },
      "cell_type": "markdown",
      "source": [
        "Build a deep CNN to classify the images. Provide a brief description of the\n",
        "architectural choices you’ve made: kernel sizes, strides, padding, network depth.\n",
        "Train your network end-to-end. Report on your model’s performance on training\n",
        "set and test set."
      ]
    },
    {
      "metadata": {
        "id": "bNYPP4M3Ioex",
        "colab_type": "code",
        "colab": {
          "base_uri": "https://localhost:8080/",
          "height": 381
        },
        "outputId": "4e8cd83e-b470-4577-9552-a6d564c91c5d"
      },
      "cell_type": "code",
      "source": [
        " # Load pre-shuffled MNIST data into train and test sets\n",
        "(X_train, y_train), (X_test, y_test) = fashion_mnist.load_data()\n",
        "\n",
        "# Shape check and plotting\n",
        "print(X_train.shape)\n",
        "plt.imshow(X_train[0])"
      ],
      "execution_count": 6,
      "outputs": [
        {
          "output_type": "stream",
          "text": [
            "(60000, 28, 28)\n"
          ],
          "name": "stdout"
        },
        {
          "output_type": "execute_result",
          "data": {
            "text/plain": [
              "<matplotlib.image.AxesImage at 0x7f79885dfc50>"
            ]
          },
          "metadata": {
            "tags": []
          },
          "execution_count": 6
        },
        {
          "output_type": "display_data",
          "data": {
            "image/png": "[encoded data removed]",
            "text/plain": [
              "<matplotlib.figure.Figure at 0x7f79eba64ba8>"
            ]
          },
          "metadata": {
            "tags": []
          }
        }
      ]
    },
    {
      "metadata": {
        "id": "7F3jfLhBWCbz",
        "colab_type": "code",
        "colab": {
          "base_uri": "https://localhost:8080/",
          "height": 1054
        },
        "outputId": "a5cfa1e2-cd70-4687-dc00-10ee863f8866"
      },
      "cell_type": "code",
      "source": [
        "model = Sequential([\n",
        "    Conv2D(32, (5, 5), padding=\"same\", input_shape=[28, 28, 1]),\n",
        "    MaxPooling2D((2,2)),\n",
        "    Conv2D(64, (5, 5), padding=\"same\"),\n",
        "    MaxPooling2D((2,2)),\n",
        "    Flatten(),\n",
        "    Dense(128, activation='relu'),\n",
        "    Dropout(0.5),\n",
        "    Dense(10, activation='softmax')\n",
        "])\n",
        "\n",
        "X_train = X_train.reshape([-1, 28, 28, 1])\n",
        "X_test = X_test.reshape([-1, 28, 28, 1])\n",
        "X_train = X_train/255\n",
        "X_test = X_test/255\n",
        "\n",
        "y_train = utils.np_utils.to_categorical(y_train)\n",
        "y_test = utils.np_utils.to_categorical(y_train)\n",
        "\n",
        "model.compile(optimizers.Adam(1e-4), loss='categorical_crossentropy', metrics=['accuracy'])\n",
        "model.fit(X_train, y_train, batch_size=64, epochs=30, verbose=2)"
      ],
      "execution_count": 7,
      "outputs": [
        {
          "output_type": "stream",
          "text": [
            "Epoch 1/30\n",
            " - 11s - loss: 0.7823 - acc: 0.7293\n",
            "Epoch 2/30\n",
            " - 10s - loss: 0.5104 - acc: 0.8200\n",
            "Epoch 3/30\n",
            " - 11s - loss: 0.4463 - acc: 0.8447\n",
            "Epoch 4/30\n",
            " - 11s - loss: 0.4080 - acc: 0.8570\n",
            "Epoch 5/30\n",
            " - 11s - loss: 0.3845 - acc: 0.8635\n",
            "Epoch 6/30\n",
            " - 10s - loss: 0.3630 - acc: 0.8709\n",
            "Epoch 7/30\n",
            " - 10s - loss: 0.3474 - acc: 0.8763\n",
            "Epoch 8/30\n",
            " - 10s - loss: 0.3327 - acc: 0.8830\n",
            "Epoch 9/30\n",
            " - 11s - loss: 0.3195 - acc: 0.8858\n",
            "Epoch 10/30\n",
            " - 10s - loss: 0.3075 - acc: 0.8903\n",
            "Epoch 11/30\n",
            " - 10s - loss: 0.2975 - acc: 0.8942\n",
            "Epoch 12/30\n",
            " - 10s - loss: 0.2910 - acc: 0.8959\n",
            "Epoch 13/30\n",
            " - 10s - loss: 0.2817 - acc: 0.8985\n",
            "Epoch 14/30\n",
            " - 10s - loss: 0.2741 - acc: 0.9013\n",
            "Epoch 15/30\n",
            " - 10s - loss: 0.2673 - acc: 0.9026\n",
            "Epoch 16/30\n",
            " - 10s - loss: 0.2587 - acc: 0.9067\n",
            "Epoch 17/30\n",
            " - 10s - loss: 0.2536 - acc: 0.9078\n",
            "Epoch 18/30\n",
            " - 10s - loss: 0.2480 - acc: 0.9089\n",
            "Epoch 19/30\n",
            " - 11s - loss: 0.2423 - acc: 0.9116\n",
            "Epoch 20/30\n",
            " - 11s - loss: 0.2364 - acc: 0.9133\n",
            "Epoch 21/30\n",
            " - 11s - loss: 0.2334 - acc: 0.9152\n",
            "Epoch 22/30\n",
            " - 11s - loss: 0.2278 - acc: 0.9163\n",
            "Epoch 23/30\n",
            " - 11s - loss: 0.2241 - acc: 0.9178\n",
            "Epoch 24/30\n",
            " - 11s - loss: 0.2177 - acc: 0.9213\n",
            "Epoch 25/30\n",
            " - 10s - loss: 0.2113 - acc: 0.9227\n",
            "Epoch 26/30\n",
            " - 10s - loss: 0.2095 - acc: 0.9222\n",
            "Epoch 27/30\n",
            " - 10s - loss: 0.2051 - acc: 0.9251\n",
            "Epoch 28/30\n",
            " - 10s - loss: 0.2033 - acc: 0.9253\n",
            "Epoch 29/30\n",
            " - 10s - loss: 0.1969 - acc: 0.9280\n",
            "Epoch 30/30\n",
            " - 10s - loss: 0.1942 - acc: 0.9292\n"
          ],
          "name": "stdout"
        },
        {
          "output_type": "execute_result",
          "data": {
            "text/plain": [
              "<keras.callbacks.History at 0x7f7988598588>"
            ]
          },
          "metadata": {
            "tags": []
          },
          "execution_count": 7
        }
      ]
    },
    {
      "metadata": {
        "id": "dYJuLlM4vO9u",
        "colab_type": "code",
        "colab": {
          "base_uri": "https://localhost:8080/",
          "height": 408
        },
        "outputId": "d939c66c-cbf1-4495-99dc-5c2f0e603019"
      },
      "cell_type": "code",
      "source": [
        "model.summary()"
      ],
      "execution_count": 8,
      "outputs": [
        {
          "output_type": "stream",
          "text": [
            "_________________________________________________________________\n",
            "Layer (type)                 Output Shape              Param #   \n",
            "=================================================================\n",
            "conv2d_8 (Conv2D)            (None, 28, 28, 32)        832       \n",
            "_________________________________________________________________\n",
            "max_pooling2d_4 (MaxPooling2 (None, 14, 14, 32)        0         \n",
            "_________________________________________________________________\n",
            "conv2d_9 (Conv2D)            (None, 14, 14, 64)        51264     \n",
            "_________________________________________________________________\n",
            "max_pooling2d_5 (MaxPooling2 (None, 7, 7, 64)          0         \n",
            "_________________________________________________________________\n",
            "flatten_1 (Flatten)          (None, 3136)              0         \n",
            "_________________________________________________________________\n",
            "dense_1 (Dense)              (None, 128)               401536    \n",
            "_________________________________________________________________\n",
            "dropout_1 (Dropout)          (None, 128)               0         \n",
            "_________________________________________________________________\n",
            "dense_2 (Dense)              (None, 10)                1290      \n",
            "=================================================================\n",
            "Total params: 454,922\n",
            "Trainable params: 454,922\n",
            "Non-trainable params: 0\n",
            "_________________________________________________________________\n"
          ],
          "name": "stdout"
        }
      ]
    },
    {
      "metadata": {
        "id": "4XZf__EqgjjG",
        "colab_type": "text"
      },
      "cell_type": "markdown",
      "source": [
        "From the results above, we can see that, by the 30th Epoch, the accuracy is 0.9265 and the loss is 0.2013, which are quite satisfying. They show that this model has a good performance on Fashion Mnist dataset. "
      ]
    },
    {
      "metadata": {
        "id": "6oJAmNLvgwhx",
        "colab_type": "text"
      },
      "cell_type": "markdown",
      "source": [
        "## 2.2.  Transfer Learning"
      ]
    },
    {
      "metadata": {
        "id": "KeLVgqMNg1GW",
        "colab_type": "text"
      },
      "cell_type": "markdown",
      "source": [
        "Repeat the same task, but this time utilize a pre-trained network for the majority\n",
        "of your model. You should only train the final Dense layer, all other weightsshould be fixed. You can use whichever pre-trained backbone you like (ResNet,\n",
        "VGG, etc). Report on your model’s performance on training set and test set."
      ]
    },
    {
      "metadata": {
        "id": "8yXFoXRyg71A",
        "colab_type": "code",
        "colab": {
          "base_uri": "https://localhost:8080/",
          "height": 34
        },
        "outputId": "3d1266ba-3b5a-4655-bfe5-9e5120bba2d0"
      },
      "cell_type": "code",
      "source": [
        "(X_train, y_train), (X_test, y_test) = fashion_mnist.load_data()\n",
        "\n",
        "X_train = [cv2.cvtColor(cv2.resize(i,(32,32)), cv2.COLOR_GRAY2BGR) for i in X_train]\n",
        "X_train = np.concatenate([arr[np.newaxis] for arr in X_train]).astype('float32')\n",
        " \n",
        "X_test  = [cv2.cvtColor(cv2.resize(i,(32,32)), cv2.COLOR_GRAY2BGR) for i in X_test ]\n",
        "X_test  = np.concatenate([arr[np.newaxis] for arr in X_test] ).astype('float32')\n",
        "\n",
        "print(X_train.shape)"
      ],
      "execution_count": 9,
      "outputs": [
        {
          "output_type": "stream",
          "text": [
            "(60000, 32, 32, 3)\n"
          ],
          "name": "stdout"
        }
      ]
    },
    {
      "metadata": {
        "id": "kG7lWJo9pvCF",
        "colab_type": "code",
        "colab": {
          "base_uri": "https://localhost:8080/",
          "height": 306
        },
        "outputId": "e74a9968-4d63-4fba-b268-cc67ee8a321b"
      },
      "cell_type": "code",
      "source": [
        "conv_base = VGG16(weights=\"imagenet\",include_top=False,input_shape=(32,32,3))\n",
        "model = Sequential()\n",
        "model.add(conv_base)\n",
        "model.add(Flatten())\n",
        "model.add(Dense(256, activation=\"relu\"))\n",
        "model.add(Dense(10, activation=\"sigmoid\"))\n",
        "model.summary()"
      ],
      "execution_count": 10,
      "outputs": [
        {
          "output_type": "stream",
          "text": [
            "Downloading data from https://github.com/fchollet/deep-learning-models/releases/download/v0.1/vgg16_weights_tf_dim_ordering_tf_kernels_notop.h5\n",
            "58892288/58889256 [==============================] - 1s 0us/step\n",
            "_________________________________________________________________\n",
            "Layer (type)                 Output Shape              Param #   \n",
            "=================================================================\n",
            "vgg16 (Model)                (None, 1, 1, 512)         14714688  \n",
            "_________________________________________________________________\n",
            "flatten_2 (Flatten)          (None, 512)               0         \n",
            "_________________________________________________________________\n",
            "dense_3 (Dense)              (None, 256)               131328    \n",
            "_________________________________________________________________\n",
            "dense_4 (Dense)              (None, 10)                2570      \n",
            "=================================================================\n",
            "Total params: 14,848,586\n",
            "Trainable params: 14,848,586\n",
            "Non-trainable params: 0\n",
            "_________________________________________________________________\n"
          ],
          "name": "stdout"
        }
      ]
    },
    {
      "metadata": {
        "id": "ZzOvNhHur3G_",
        "colab_type": "code",
        "colab": {
          "base_uri": "https://localhost:8080/",
          "height": 374
        },
        "outputId": "08eb22a4-5e7d-4b7b-ad9f-2c94a80c5057"
      },
      "cell_type": "code",
      "source": [
        "def build_dim(y):\n",
        "    y_m = np.zeros(10)\n",
        "    y_m[y] = 1\n",
        "    return y_m\n",
        "    \n",
        "y_train = np.array([build_dim(y_train[i]) for i in range(len(y_train))])\n",
        "y_test  = np.array([build_dim(y_test [i]) for i in range(len(y_test ))])\n",
        "\n",
        "conv_base.trainable = False\n",
        "model.compile(loss=\"binary_crossentropy\", optimizer=RMSprop(1e-4),metrics=[\"acc\"])\n",
        "model.fit(X_train, y_train, epochs=10, batch_size = 64)\n"
      ],
      "execution_count": 11,
      "outputs": [
        {
          "output_type": "stream",
          "text": [
            "Epoch 1/10\n",
            "60000/60000 [==============================] - 26s 439us/step - loss: 0.2985 - acc: 0.9311\n",
            "Epoch 2/10\n",
            "60000/60000 [==============================] - 26s 433us/step - loss: 0.1207 - acc: 0.9607\n",
            "Epoch 3/10\n",
            "60000/60000 [==============================] - 25s 420us/step - loss: 0.0991 - acc: 0.9656\n",
            "Epoch 4/10\n",
            "60000/60000 [==============================] - 25s 419us/step - loss: 0.0881 - acc: 0.9686\n",
            "Epoch 5/10\n",
            "60000/60000 [==============================] - 25s 422us/step - loss: 0.0811 - acc: 0.9708\n",
            "Epoch 6/10\n",
            "60000/60000 [==============================] - 25s 421us/step - loss: 0.0759 - acc: 0.9722\n",
            "Epoch 7/10\n",
            "60000/60000 [==============================] - 25s 423us/step - loss: 0.0720 - acc: 0.9734\n",
            "Epoch 8/10\n",
            "60000/60000 [==============================] - 25s 425us/step - loss: 0.0688 - acc: 0.9745\n",
            "Epoch 9/10\n",
            "60000/60000 [==============================] - 26s 426us/step - loss: 0.0660 - acc: 0.9753\n",
            "Epoch 10/10\n",
            "60000/60000 [==============================] - 26s 427us/step - loss: 0.0636 - acc: 0.9761\n"
          ],
          "name": "stdout"
        },
        {
          "output_type": "execute_result",
          "data": {
            "text/plain": [
              "<keras.callbacks.History at 0x7f7985ca7f28>"
            ]
          },
          "metadata": {
            "tags": []
          },
          "execution_count": 11
        }
      ]
    },
    {
      "metadata": {
        "id": "JWaTKNOd4Mrd",
        "colab_type": "code",
        "colab": {
          "base_uri": "https://localhost:8080/",
          "height": 51
        },
        "outputId": "c7d5da11-0856-4e9e-9319-a870688fd651"
      },
      "cell_type": "code",
      "source": [
        "model.evaluate(X_test, y_test)"
      ],
      "execution_count": 12,
      "outputs": [
        {
          "output_type": "stream",
          "text": [
            "10000/10000 [==============================] - 6s 592us/step\n"
          ],
          "name": "stdout"
        },
        {
          "output_type": "execute_result",
          "data": {
            "text/plain": [
              "[0.09372181837856769, 0.9660900011062622]"
            ]
          },
          "metadata": {
            "tags": []
          },
          "execution_count": 12
        }
      ]
    },
    {
      "metadata": {
        "id": "9vYZCr3C4ZHA",
        "colab_type": "text"
      },
      "cell_type": "markdown",
      "source": [
        "From the results above, we can see that the accuracy for both train and test sets are over 0.96. The result shows that the pretrained model has good performance on Fashion Mnist dataset. "
      ]
    },
    {
      "metadata": {
        "id": "nOHH8gIG4uWg",
        "colab_type": "text"
      },
      "cell_type": "markdown",
      "source": [
        "## 3. Text Classification"
      ]
    },
    {
      "metadata": {
        "id": "o8dCgNBs5Nm-",
        "colab_type": "text"
      },
      "cell_type": "markdown",
      "source": [
        "Build and train a Recurrent Neural Network to solve this text classification task.\n",
        "You can use any type of RNN you wish (SimpleRNN, GRU, LSTM)."
      ]
    },
    {
      "metadata": {
        "id": "PHUoLbKu6hgN",
        "colab_type": "code",
        "colab": {}
      },
      "cell_type": "code",
      "source": [
        "malicious = requests.get('https://s3.amazonaws.com/anly-590/url-classification/malicious-urls.txt').text.split('\\n')\n",
        "benign = requests.get('https://s3.amazonaws.com/anly-590/url-classification/benign-urls.txt').text.split('\\n')\n",
        "text = malicious + benign\n",
        "\n",
        "label = [0 for _ in range(len(benign))]+[1 for _ in range(len(malicious))]\n",
        "\n",
        "text_train,text_test,label_train,label_test = train_test_split(text,label,test_size=0.1)"
      ],
      "execution_count": 0,
      "outputs": []
    },
    {
      "metadata": {
        "id": "OsXOlzbI7MHi",
        "colab_type": "code",
        "colab": {}
      },
      "cell_type": "code",
      "source": [
        "MAX_NUM_WORDS = 500 \n",
        "MAX_SEQUENCE_LENGTH = 50 \n",
        "\n",
        "tokenizer = Tokenizer(num_words=MAX_NUM_WORDS)\n",
        "tokenizer.fit_on_texts(text_train)\n",
        "train_sequences = tokenizer.texts_to_sequences(text_train) \n",
        "test_sequences = tokenizer.texts_to_sequences(text_test)"
      ],
      "execution_count": 0,
      "outputs": []
    },
    {
      "metadata": {
        "id": "kQiyucUa8dCn",
        "colab_type": "code",
        "colab": {
          "base_uri": "https://localhost:8080/",
          "height": 34
        },
        "outputId": "df32a818-d2f2-4d4e-f925-54ba4e25b5f4"
      },
      "cell_type": "code",
      "source": [
        "print('Sample sequence: ' + ' '.join(str(e) for e in train_sequences[19]))"
      ],
      "execution_count": 15,
      "outputs": [
        {
          "output_type": "stream",
          "text": [
            "Sample sequence: 63 3 2 1\n"
          ],
          "name": "stdout"
        }
      ]
    },
    {
      "metadata": {
        "id": "vZSIkPCG9pjT",
        "colab_type": "code",
        "colab": {}
      },
      "cell_type": "code",
      "source": [
        "text_train_2 = pad_sequences(train_sequences,maxlen=MAX_SEQUENCE_LENGTH)\n",
        "text_test_2 = pad_sequences(test_sequences,maxlen=MAX_SEQUENCE_LENGTH)"
      ],
      "execution_count": 0,
      "outputs": []
    },
    {
      "metadata": {
        "id": "EDjFM9oWbDxb",
        "colab_type": "code",
        "colab": {
          "base_uri": "https://localhost:8080/",
          "height": 136
        },
        "outputId": "75120132-ecd1-4ea7-a1ac-f24f298f504f"
      },
      "cell_type": "code",
      "source": [
        "model_RNN = Sequential()\n",
        "model_RNN.add(Embedding(MAX_NUM_WORDS, 64))\n",
        "#model.add(SimpleRNN(32))\n",
        "#model.add(GRU(32))\n",
        "model_RNN.add(LSTM(32))\n",
        "model_RNN.add(Dense(1, activation ='sigmoid'))\n",
        "model_RNN.compile(optimizer = 'rmsprop',\n",
        "             loss = 'binary_crossentropy',\n",
        "             metrics=['acc'])\n",
        "model_RNN.fit(text_train_2, label_train,epochs = 3, batch_size = 64,verbose=1)"
      ],
      "execution_count": 17,
      "outputs": [
        {
          "output_type": "stream",
          "text": [
            "Epoch 1/3\n",
            "60618/60618 [==============================] - 135s 2ms/step - loss: 0.0379 - acc: 0.9905\n",
            "Epoch 2/3\n",
            "60618/60618 [==============================] - 132s 2ms/step - loss: 0.0185 - acc: 0.9943\n",
            "Epoch 3/3\n",
            "60618/60618 [==============================] - 131s 2ms/step - loss: 0.0179 - acc: 0.9944\n"
          ],
          "name": "stdout"
        },
        {
          "output_type": "execute_result",
          "data": {
            "text/plain": [
              "<keras.callbacks.History at 0x7f798499f4e0>"
            ]
          },
          "metadata": {
            "tags": []
          },
          "execution_count": 17
        }
      ]
    },
    {
      "metadata": {
        "id": "CfwO91ycpjBw",
        "colab_type": "code",
        "colab": {
          "base_uri": "https://localhost:8080/",
          "height": 238
        },
        "outputId": "2a2899aa-3b30-48e3-ad38-467331913035"
      },
      "cell_type": "code",
      "source": [
        "model_RNN.summary()"
      ],
      "execution_count": 18,
      "outputs": [
        {
          "output_type": "stream",
          "text": [
            "_________________________________________________________________\n",
            "Layer (type)                 Output Shape              Param #   \n",
            "=================================================================\n",
            "embedding_1 (Embedding)      (None, None, 64)          32000     \n",
            "_________________________________________________________________\n",
            "lstm_1 (LSTM)                (None, 32)                12416     \n",
            "_________________________________________________________________\n",
            "dense_5 (Dense)              (None, 1)                 33        \n",
            "=================================================================\n",
            "Total params: 44,449\n",
            "Trainable params: 44,449\n",
            "Non-trainable params: 0\n",
            "_________________________________________________________________\n"
          ],
          "name": "stdout"
        }
      ]
    },
    {
      "metadata": {
        "id": "0d2OH0kyl8Bo",
        "colab_type": "code",
        "colab": {
          "base_uri": "https://localhost:8080/",
          "height": 51
        },
        "outputId": "bad5c610-5bf6-4536-c076-2d21687b7c88"
      },
      "cell_type": "code",
      "source": [
        "model_RNN.evaluate(text_test_2,label_test)"
      ],
      "execution_count": 19,
      "outputs": [
        {
          "output_type": "stream",
          "text": [
            "6736/6736 [==============================] - 8s 1ms/step\n"
          ],
          "name": "stdout"
        },
        {
          "output_type": "execute_result",
          "data": {
            "text/plain": [
              "[0.014530002876540764, 0.995249406175772]"
            ]
          },
          "metadata": {
            "tags": []
          },
          "execution_count": 19
        }
      ]
    },
    {
      "metadata": {
        "id": "4Us6Gxv8mL3k",
        "colab_type": "text"
      },
      "cell_type": "markdown",
      "source": [
        "Build and train a 1D CNN for this text classification task. You might gain some\n",
        "insight and inspiration from these text classification approaches:"
      ]
    },
    {
      "metadata": {
        "id": "VrJJmtkDmTfB",
        "colab_type": "code",
        "colab": {
          "base_uri": "https://localhost:8080/",
          "height": 136
        },
        "outputId": "968fe4f8-b4d5-4ad7-a8ec-ef8edb5f48b5"
      },
      "cell_type": "code",
      "source": [
        "label_train_2 = to_categorical(label_train, num_classes = 2)\n",
        "label_test_2 = to_categorical(label_test, num_classes = 2)\n",
        "\n",
        "model_CNN = Sequential()\n",
        "model_CNN.add(Embedding(MAX_NUM_WORDS,64))\n",
        "model_CNN.add(Conv1D(64,3,padding='valid',activation='relu',strides=1))\n",
        "model_CNN.add(GlobalMaxPooling1D())\n",
        "model_CNN.add(Dropout(0.5))\n",
        "model_CNN.add(Dense(64,activation='relu'))\n",
        "model_CNN.add(Dense(2,activation='sigmoid'))\n",
        "model_CNN.compile(optimizer = 'adam',\n",
        "             loss = 'binary_crossentropy',\n",
        "             metrics=['acc'])\n",
        "model_CNN.fit(text_train_2, label_train_2,epochs = 3, batch_size = 64,verbose=1)"
      ],
      "execution_count": 20,
      "outputs": [
        {
          "output_type": "stream",
          "text": [
            "Epoch 1/3\n",
            "60618/60618 [==============================] - 9s 153us/step - loss: 0.0417 - acc: 0.9904\n",
            "Epoch 2/3\n",
            "60618/60618 [==============================] - 9s 152us/step - loss: 0.0175 - acc: 0.9943\n",
            "Epoch 3/3\n",
            "60618/60618 [==============================] - 9s 150us/step - loss: 0.0169 - acc: 0.9943\n"
          ],
          "name": "stdout"
        },
        {
          "output_type": "execute_result",
          "data": {
            "text/plain": [
              "<keras.callbacks.History at 0x7f7983df58d0>"
            ]
          },
          "metadata": {
            "tags": []
          },
          "execution_count": 20
        }
      ]
    },
    {
      "metadata": {
        "id": "bMpQjuMHruSn",
        "colab_type": "code",
        "colab": {
          "base_uri": "https://localhost:8080/",
          "height": 340
        },
        "outputId": "fafe4296-cdca-4718-c556-d0ee9f56973b"
      },
      "cell_type": "code",
      "source": [
        "model_CNN.summary()"
      ],
      "execution_count": 21,
      "outputs": [
        {
          "output_type": "stream",
          "text": [
            "_________________________________________________________________\n",
            "Layer (type)                 Output Shape              Param #   \n",
            "=================================================================\n",
            "embedding_2 (Embedding)      (None, None, 64)          32000     \n",
            "_________________________________________________________________\n",
            "conv1d_1 (Conv1D)            (None, None, 64)          12352     \n",
            "_________________________________________________________________\n",
            "global_max_pooling1d_1 (Glob (None, 64)                0         \n",
            "_________________________________________________________________\n",
            "dropout_2 (Dropout)          (None, 64)                0         \n",
            "_________________________________________________________________\n",
            "dense_6 (Dense)              (None, 64)                4160      \n",
            "_________________________________________________________________\n",
            "dense_7 (Dense)              (None, 2)                 130       \n",
            "=================================================================\n",
            "Total params: 48,642\n",
            "Trainable params: 48,642\n",
            "Non-trainable params: 0\n",
            "_________________________________________________________________\n"
          ],
          "name": "stdout"
        }
      ]
    },
    {
      "metadata": {
        "id": "6d2QD1sZryCG",
        "colab_type": "code",
        "colab": {
          "base_uri": "https://localhost:8080/",
          "height": 51
        },
        "outputId": "15297a1f-a0bd-4e17-9615-fb8251c64e15"
      },
      "cell_type": "code",
      "source": [
        "model_CNN.evaluate(text_test_2,label_test_2)"
      ],
      "execution_count": 22,
      "outputs": [
        {
          "output_type": "stream",
          "text": [
            "6736/6736 [==============================] - 1s 95us/step\n"
          ],
          "name": "stdout"
        },
        {
          "output_type": "execute_result",
          "data": {
            "text/plain": [
              "[0.014319932985536136, 0.9951009501187649]"
            ]
          },
          "metadata": {
            "tags": []
          },
          "execution_count": 22
        }
      ]
    },
    {
      "metadata": {
        "id": "zS5XupdXtB-Q",
        "colab_type": "text"
      },
      "cell_type": "markdown",
      "source": [
        "Be sure to directly compare your two methods with an ROC curve or similar\n",
        "validation method. Don’t forget to create a train-test split."
      ]
    },
    {
      "metadata": {
        "id": "gotZJ0S6tFJq",
        "colab_type": "code",
        "colab": {}
      },
      "cell_type": "code",
      "source": [
        "label_pred_rnn = model_RNN.predict(text_test_2).ravel()\n",
        "fpr_rnn, tpr_rnn, thresholds_rnn = roc_curve(label_test, label_pred_rnn)\n",
        "label_pred_cnn = model_CNN.predict(text_test_2).ravel()\n",
        "label_test_2 = np.array(label_test_2).flatten()\n",
        "fpr_cnn, tpr_cnn, thresholds_cnn = roc_curve(label_test_2, label_pred_cnn)\n",
        "auc_cnn = auc(fpr_cnn, tpr_cnn)\n",
        "auc_rnn = auc(fpr_rnn, tpr_rnn)"
      ],
      "execution_count": 0,
      "outputs": []
    },
    {
      "metadata": {
        "id": "NLQXA66vu_t3",
        "colab_type": "code",
        "colab": {
          "base_uri": "https://localhost:8080/",
          "height": 376
        },
        "outputId": "8f43f6ca-e768-4e29-e827-825bbb6a8a58"
      },
      "cell_type": "code",
      "source": [
        "plt.figure(1)\n",
        "plt.plot([0, 1], [0, 1], 'k--')\n",
        "plt.plot(fpr_rnn, tpr_rnn, label='RNN (area = {:.3f})'.format(auc_rnn))\n",
        "plt.plot(fpr_cnn, tpr_cnn, label='CNN (area = {:.3f})'.format(auc_cnn))\n",
        "plt.xlabel('False positive rate')\n",
        "plt.ylabel('True positive rate')\n",
        "plt.title('ROC curve')\n",
        "plt.legend(loc='best')\n",
        "plt.show()"
      ],
      "execution_count": 24,
      "outputs": [
        {
          "output_type": "display_data",
          "data": {
            "image/png": "[encoded data removed]",
            "text/plain": [
              "<matplotlib.figure.Figure at 0x7f7983e75a20>"
            ]
          },
          "metadata": {
            "tags": []
          }
        }
      ]
    },
    {
      "metadata": {
        "id": "D13pw7RfvHy3",
        "colab_type": "text"
      },
      "cell_type": "markdown",
      "source": [
        "From the roc curve, the RNN model performs slightly worse than the CNN model. The CNN model is not perfect as the graph shows, but the accuracy score is equal to 1.000 when three decimal places are kept. Both the models have accuracy over 99%, which are extremely good. "
      ]
    }
  ]
}