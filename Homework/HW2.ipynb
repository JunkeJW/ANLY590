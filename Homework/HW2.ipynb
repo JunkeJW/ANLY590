{
  "nbformat": 4,
  "nbformat_minor": 0,
  "metadata": {
    "colab": {
      "name": "Untitled0.ipynb",
      "version": "0.3.2",
      "provenance": []
    },
    "kernelspec": {
      "name": "python3",
      "display_name": "Python 3"
    },
    "accelerator": "GPU"
  },
  "cells": [
    {
      "metadata": {
        "id": "b8c63xQjFvBy",
        "colab_type": "text"
      },
      "cell_type": "markdown",
      "source": [
        "# ANLY 590 Assignment 2"
      ]
    },
    {
      "metadata": {
        "id": "f19FTu-jF033",
        "colab_type": "text"
      },
      "cell_type": "markdown",
      "source": [
        "## 1. Autoencoder"
      ]
    },
    {
      "metadata": {
        "id": "JACyPCU_F5lQ",
        "colab_type": "text"
      },
      "cell_type": "markdown",
      "source": [
        "A convolutional autoencoder is a particular flavor of autoencoder where we\n",
        "use convolutional layers instead of dense layers. We have previously applied\n",
        "autoencoders to images using only Dense layers and the result worked fairly\n",
        "well. However, the local spatial correlations of images imply that we should be\n",
        "able to do better using convolutional layers instead of Dense layers.\n",
        "\n",
        "Build and fit a convolutional autoencoder for the Fashion MNIST dataset.\n",
        "The components of this network will be many of the same pieces we’ve used\n",
        "with convolutional classification networks: Conv2D, MaxPooling, and so on.\n",
        "The encoder part of the network should run the input image through a few\n",
        "convolutional layers of your choice. The decoder part of the network will utilize\n",
        "UpSampling2D to get the representation back to the original image size.\n",
        "\n",
        "An example to guide your thinking can be found toward the bottom of this\n",
        "post https://blog.keras.io/building-autoencoders-in-keras.html.\n",
        "\n",
        "After training your network, visualize some examples of input images and\n",
        "their decoded reconstruction."
      ]
    },
    {
      "metadata": {
        "id": "wasre8JRF_G2",
        "colab_type": "code",
        "colab": {
          "base_uri": "https://localhost:8080/",
          "height": 34
        },
        "outputId": "d0ef0e9e-1461-4e5d-8247-c573a7e7b50f"
      },
      "cell_type": "code",
      "source": [
        "from keras.layers import Input, Dense, Conv2D, MaxPooling2D, UpSampling2D, Flatten, Dropout, Reshape\n",
        "from keras.models import Model\n",
        "from keras.models import Sequential\n",
        "from keras import backend as K\n",
        "from keras import utils, optimizers\n",
        "from keras.utils.np_utils import to_categorical\n",
        "from keras.datasets import fashion_mnist\n",
        "import numpy as np\n",
        "from keras.callbacks import TensorBoard\n",
        "import matplotlib.pyplot as plt\n",
        "from keras.applications.vgg16 import VGG16\n",
        "from keras.applications.vgg16 import preprocess_input\n",
        "from keras.optimizers import SGD, RMSprop\n",
        "from keras.preprocessing.text import Tokenizer\n",
        "from keras.preprocessing.sequence import pad_sequences\n",
        "import cv2\n",
        "import pandas as pd\n",
        "import requests\n",
        "from sklearn.model_selection import train_test_split"
      ],
      "execution_count": 1,
      "outputs": [
        {
          "output_type": "stream",
          "text": [
            "Using TensorFlow backend.\n"
          ],
          "name": "stderr"
        }
      ]
    },
    {
      "metadata": {
        "id": "ucxVqGv3GSoP",
        "colab_type": "code",
        "colab": {}
      },
      "cell_type": "code",
      "source": [
        "input_img = Input(shape=(28, 28, 1))\n",
        "\n",
        "x = Conv2D(16, (3, 3), activation='relu', padding='same')(input_img)\n",
        "x = MaxPooling2D((2, 2), padding='same')(x)\n",
        "x = Conv2D(16, (3, 3), activation='relu', padding='same')(x)\n",
        "x = MaxPooling2D((2, 2), padding='same')(x)\n",
        "x = Conv2D(32, (3, 3), activation='relu', padding='same')(x)\n",
        "encoded = MaxPooling2D((2, 2), padding='same')(x)\n",
        "\n",
        "\n",
        "x = Conv2D(32, (3, 3), activation='relu', padding='same')(encoded)\n",
        "x = UpSampling2D((2, 2))(x)\n",
        "x = Conv2D(16, (3, 3), activation='relu', padding='same')(x)\n",
        "x = UpSampling2D((2, 2))(x)\n",
        "x = Conv2D(16, (3, 3), activation='relu')(x)\n",
        "x = UpSampling2D((2, 2))(x)\n",
        "decoded = Conv2D(1, (3, 3), activation='sigmoid', padding='same')(x)\n",
        "\n",
        "autoencoder = Model(input_img, decoded)\n",
        "autoencoder.compile(optimizer='adadelta', loss='binary_crossentropy')"
      ],
      "execution_count": 0,
      "outputs": []
    },
    {
      "metadata": {
        "id": "fpiKUwcNGXCk",
        "colab_type": "code",
        "colab": {}
      },
      "cell_type": "code",
      "source": [
        "(x_train, _), (x_test, _) = fashion_mnist.load_data()\n",
        "\n",
        "x_train = x_train.astype('float32') / 255.\n",
        "x_test = x_test.astype('float32') / 255.\n",
        "x_train = np.reshape(x_train, (len(x_train), 28, 28, 1)) \n",
        "x_test = np.reshape(x_test, (len(x_test), 28, 28, 1))"
      ],
      "execution_count": 0,
      "outputs": []
    },
    {
      "metadata": {
        "id": "iknwE2e_Gg1z",
        "colab_type": "code",
        "colab": {
          "base_uri": "https://localhost:8080/",
          "height": 1071
        },
        "outputId": "e81445c2-fd44-4dfa-8c9b-9d04f652f73d"
      },
      "cell_type": "code",
      "source": [
        "autoencoder.fit(x_train, x_train,\n",
        "                epochs=30,\n",
        "                batch_size=128,\n",
        "                shuffle=True,\n",
        "                validation_data=(x_test, x_test),\n",
        "                callbacks=[TensorBoard(log_dir='/tmp/autoencoder')])"
      ],
      "execution_count": 4,
      "outputs": [
        {
          "output_type": "stream",
          "text": [
            "Train on 60000 samples, validate on 10000 samples\n",
            "Epoch 1/30\n",
            "60000/60000 [==============================] - 8s 141us/step - loss: 0.3529 - val_loss: 0.3134\n",
            "Epoch 2/30\n",
            "60000/60000 [==============================] - 7s 115us/step - loss: 0.3060 - val_loss: 0.3046\n",
            "Epoch 3/30\n",
            "60000/60000 [==============================] - 7s 114us/step - loss: 0.2977 - val_loss: 0.2994\n",
            "Epoch 4/30\n",
            "60000/60000 [==============================] - 7s 113us/step - loss: 0.2928 - val_loss: 0.2964\n",
            "Epoch 5/30\n",
            "60000/60000 [==============================] - 7s 114us/step - loss: 0.2898 - val_loss: 0.2907\n",
            "Epoch 6/30\n",
            "60000/60000 [==============================] - 7s 114us/step - loss: 0.2877 - val_loss: 0.2924\n",
            "Epoch 7/30\n",
            "60000/60000 [==============================] - 7s 114us/step - loss: 0.2857 - val_loss: 0.2861\n",
            "Epoch 8/30\n",
            "60000/60000 [==============================] - 7s 114us/step - loss: 0.2842 - val_loss: 0.2853\n",
            "Epoch 9/30\n",
            "60000/60000 [==============================] - 7s 113us/step - loss: 0.2828 - val_loss: 0.2834\n",
            "Epoch 10/30\n",
            "60000/60000 [==============================] - 7s 114us/step - loss: 0.2819 - val_loss: 0.2827\n",
            "Epoch 11/30\n",
            "60000/60000 [==============================] - 7s 114us/step - loss: 0.2807 - val_loss: 0.2807\n",
            "Epoch 12/30\n",
            "60000/60000 [==============================] - 7s 113us/step - loss: 0.2799 - val_loss: 0.2809\n",
            "Epoch 13/30\n",
            "60000/60000 [==============================] - 7s 113us/step - loss: 0.2792 - val_loss: 0.2820\n",
            "Epoch 14/30\n",
            "60000/60000 [==============================] - 7s 114us/step - loss: 0.2785 - val_loss: 0.2804\n",
            "Epoch 15/30\n",
            "60000/60000 [==============================] - 7s 113us/step - loss: 0.2778 - val_loss: 0.2801\n",
            "Epoch 16/30\n",
            "60000/60000 [==============================] - 7s 113us/step - loss: 0.2775 - val_loss: 0.2801\n",
            "Epoch 17/30\n",
            "60000/60000 [==============================] - 7s 114us/step - loss: 0.2771 - val_loss: 0.2799\n",
            "Epoch 18/30\n",
            "60000/60000 [==============================] - 7s 114us/step - loss: 0.2763 - val_loss: 0.2799\n",
            "Epoch 19/30\n",
            "60000/60000 [==============================] - 7s 114us/step - loss: 0.2759 - val_loss: 0.2768\n",
            "Epoch 20/30\n",
            "60000/60000 [==============================] - 7s 114us/step - loss: 0.2755 - val_loss: 0.2777\n",
            "Epoch 21/30\n",
            "60000/60000 [==============================] - 7s 114us/step - loss: 0.2753 - val_loss: 0.2767\n",
            "Epoch 22/30\n",
            "60000/60000 [==============================] - 7s 114us/step - loss: 0.2748 - val_loss: 0.2766\n",
            "Epoch 23/30\n",
            "60000/60000 [==============================] - 7s 113us/step - loss: 0.2746 - val_loss: 0.2774\n",
            "Epoch 24/30\n",
            "60000/60000 [==============================] - 7s 114us/step - loss: 0.2742 - val_loss: 0.2752\n",
            "Epoch 25/30\n",
            "60000/60000 [==============================] - 7s 114us/step - loss: 0.2741 - val_loss: 0.2767\n",
            "Epoch 26/30\n",
            "60000/60000 [==============================] - 7s 113us/step - loss: 0.2737 - val_loss: 0.2766\n",
            "Epoch 27/30\n",
            "60000/60000 [==============================] - 7s 114us/step - loss: 0.2736 - val_loss: 0.2753\n",
            "Epoch 28/30\n",
            "60000/60000 [==============================] - 7s 114us/step - loss: 0.2734 - val_loss: 0.2759\n",
            "Epoch 29/30\n",
            "60000/60000 [==============================] - 7s 114us/step - loss: 0.2731 - val_loss: 0.2759\n",
            "Epoch 30/30\n",
            "60000/60000 [==============================] - 7s 114us/step - loss: 0.2730 - val_loss: 0.2742\n"
          ],
          "name": "stdout"
        },
        {
          "output_type": "execute_result",
          "data": {
            "text/plain": [
              "<keras.callbacks.History at 0x7f5c64568940>"
            ]
          },
          "metadata": {
            "tags": []
          },
          "execution_count": 4
        }
      ]
    },
    {
      "metadata": {
        "id": "5fmxcWQ2HxJk",
        "colab_type": "code",
        "colab": {
          "base_uri": "https://localhost:8080/",
          "height": 244
        },
        "outputId": "b4d7d2a3-8633-455e-a82a-8aa8bf3ca3cf"
      },
      "cell_type": "code",
      "source": [
        "decoded_imgs = autoencoder.predict(x_test)\n",
        "\n",
        "n = 10\n",
        "plt.figure(figsize=(20, 4))\n",
        "for i in range(n):\n",
        "    # display original\n",
        "    ax = plt.subplot(2, n, i+1)\n",
        "    plt.imshow(x_test[i].reshape(28, 28))\n",
        "    plt.gray()\n",
        "    ax.get_xaxis().set_visible(False)\n",
        "    ax.get_yaxis().set_visible(False)\n",
        "\n",
        "    # display reconstruction\n",
        "    ax = plt.subplot(2, n, i+n+1)\n",
        "    plt.imshow(decoded_imgs[i].reshape(28, 28))\n",
        "    plt.gray()\n",
        "    ax.get_xaxis().set_visible(False)\n",
        "    ax.get_yaxis().set_visible(False)\n",
        "plt.show()"
      ],
      "execution_count": 5,
      "outputs": [
        {
          "output_type": "display_data",
          "data": {
            "image/png": "[encoded data removed]",
            "text/plain": [
              "<matplotlib.figure.Figure at 0x7f5c5699ae48>"
            ]
          },
          "metadata": {
            "tags": []
          }
        }
      ]
    },
    {
      "metadata": {
        "id": "386EEjCWIViH",
        "colab_type": "text"
      },
      "cell_type": "markdown",
      "source": [
        "## 2. Image Classification"
      ]
    },
    {
      "metadata": {
        "id": "iE1DV6kVIaW7",
        "colab_type": "text"
      },
      "cell_type": "markdown",
      "source": [
        "We’ll continue to use the Fashion MNIST dataset and build a deep convolutional\n",
        "network for classification."
      ]
    },
    {
      "metadata": {
        "id": "SOvttMUGIgVQ",
        "colab_type": "text"
      },
      "cell_type": "markdown",
      "source": [
        "## 2.1. Deep CNN"
      ]
    },
    {
      "metadata": {
        "id": "NLcnBSPLIlsE",
        "colab_type": "text"
      },
      "cell_type": "markdown",
      "source": [
        "Build a deep CNN to classify the images. Provide a brief description of the\n",
        "architectural choices you’ve made: kernel sizes, strides, padding, network depth.\n",
        "Train your network end-to-end. Report on your model’s performance on training\n",
        "set and test set."
      ]
    },
    {
      "metadata": {
        "id": "bNYPP4M3Ioex",
        "colab_type": "code",
        "colab": {
          "base_uri": "https://localhost:8080/",
          "height": 381
        },
        "outputId": "d444aa4f-a8d9-41f0-d5d8-2f817e54a412"
      },
      "cell_type": "code",
      "source": [
        " # Load pre-shuffled MNIST data into train and test sets\n",
        "(X_train, y_train), (X_test, y_test) = fashion_mnist.load_data()\n",
        "\n",
        "# Shape check and plotting\n",
        "print(X_train.shape)\n",
        "plt.imshow(X_train[0])"
      ],
      "execution_count": 11,
      "outputs": [
        {
          "output_type": "stream",
          "text": [
            "(60000, 28, 28)\n"
          ],
          "name": "stdout"
        },
        {
          "output_type": "execute_result",
          "data": {
            "text/plain": [
              "<matplotlib.image.AxesImage at 0x7f62969588d0>"
            ]
          },
          "metadata": {
            "tags": []
          },
          "execution_count": 11
        },
        {
          "output_type": "display_data",
          "data": {
            "image/png": "[encoded data removed]",
            "text/plain": [
              "<matplotlib.figure.Figure at 0x7f62a01f2f98>"
            ]
          },
          "metadata": {
            "tags": []
          }
        }
      ]
    },
    {
      "metadata": {
        "id": "7F3jfLhBWCbz",
        "colab_type": "code",
        "colab": {
          "base_uri": "https://localhost:8080/",
          "height": 1054
        },
        "outputId": "122b2089-ac9f-474f-9a08-e8c05ad16b6a"
      },
      "cell_type": "code",
      "source": [
        "model = Sequential([\n",
        "    Conv2D(32, (5, 5), padding=\"same\", input_shape=[28, 28, 1]),\n",
        "    MaxPooling2D((2,2)),\n",
        "    Conv2D(64, (5, 5), padding=\"same\"),\n",
        "    MaxPooling2D((2,2)),\n",
        "    Flatten(),\n",
        "    Dense(128, activation='relu'),\n",
        "    Dropout(0.5),\n",
        "    Dense(10, activation='softmax')\n",
        "])\n",
        "\n",
        "X_train = X_train.reshape([-1, 28, 28, 1])\n",
        "X_test = X_test.reshape([-1, 28, 28, 1])\n",
        "X_train = X_train/255\n",
        "X_test = X_test/255\n",
        "\n",
        "y_train = utils.np_utils.to_categorical(y_train)\n",
        "y_test = utils.np_utils.to_categorical(y_train)\n",
        "\n",
        "model.compile(optimizers.Adam(1e-4), loss='categorical_crossentropy', metrics=['accuracy'])\n",
        "model.fit(X_train, y_train, batch_size=64, epochs=30, verbose=2)"
      ],
      "execution_count": 12,
      "outputs": [
        {
          "output_type": "stream",
          "text": [
            "Epoch 1/30\n",
            " - 10s - loss: 0.8158 - acc: 0.7180\n",
            "Epoch 2/30\n",
            " - 10s - loss: 0.5289 - acc: 0.8133\n",
            "Epoch 3/30\n",
            " - 10s - loss: 0.4627 - acc: 0.8388\n",
            "Epoch 4/30\n",
            " - 10s - loss: 0.4245 - acc: 0.8521\n",
            "Epoch 5/30\n",
            " - 10s - loss: 0.3980 - acc: 0.8606\n",
            "Epoch 6/30\n",
            " - 10s - loss: 0.3774 - acc: 0.8678\n",
            "Epoch 7/30\n",
            " - 10s - loss: 0.3641 - acc: 0.8720\n",
            "Epoch 8/30\n",
            " - 10s - loss: 0.3482 - acc: 0.8764\n",
            "Epoch 9/30\n",
            " - 10s - loss: 0.3355 - acc: 0.8810\n",
            "Epoch 10/30\n",
            " - 10s - loss: 0.3251 - acc: 0.8845\n",
            "Epoch 11/30\n",
            " - 10s - loss: 0.3160 - acc: 0.8882\n",
            "Epoch 12/30\n",
            " - 10s - loss: 0.3046 - acc: 0.8911\n",
            "Epoch 13/30\n",
            " - 10s - loss: 0.2986 - acc: 0.8928\n",
            "Epoch 14/30\n",
            " - 10s - loss: 0.2873 - acc: 0.8977\n",
            "Epoch 15/30\n",
            " - 10s - loss: 0.2831 - acc: 0.8983\n",
            "Epoch 16/30\n",
            " - 10s - loss: 0.2740 - acc: 0.9016\n",
            "Epoch 17/30\n",
            " - 10s - loss: 0.2700 - acc: 0.9038\n",
            "Epoch 18/30\n",
            " - 10s - loss: 0.2641 - acc: 0.9051\n",
            "Epoch 19/30\n",
            " - 10s - loss: 0.2606 - acc: 0.9068\n",
            "Epoch 20/30\n",
            " - 10s - loss: 0.2525 - acc: 0.9086\n",
            "Epoch 21/30\n",
            " - 10s - loss: 0.2480 - acc: 0.9102\n",
            "Epoch 22/30\n",
            " - 10s - loss: 0.2423 - acc: 0.9128\n",
            "Epoch 23/30\n",
            " - 10s - loss: 0.2362 - acc: 0.9149\n",
            "Epoch 24/30\n",
            " - 10s - loss: 0.2327 - acc: 0.9150\n",
            "Epoch 25/30\n",
            " - 10s - loss: 0.2286 - acc: 0.9167\n",
            "Epoch 26/30\n",
            " - 10s - loss: 0.2237 - acc: 0.9188\n",
            "Epoch 27/30\n",
            " - 10s - loss: 0.2213 - acc: 0.9195\n",
            "Epoch 28/30\n",
            " - 10s - loss: 0.2184 - acc: 0.9200\n",
            "Epoch 29/30\n",
            " - 10s - loss: 0.2122 - acc: 0.9219\n",
            "Epoch 30/30\n",
            " - 10s - loss: 0.2124 - acc: 0.9229\n"
          ],
          "name": "stdout"
        },
        {
          "output_type": "execute_result",
          "data": {
            "text/plain": [
              "<keras.callbacks.History at 0x7f62969407b8>"
            ]
          },
          "metadata": {
            "tags": []
          },
          "execution_count": 12
        }
      ]
    },
    {
      "metadata": {
        "id": "dYJuLlM4vO9u",
        "colab_type": "code",
        "colab": {
          "base_uri": "https://localhost:8080/",
          "height": 408
        },
        "outputId": "691e0caa-5a38-4596-dcc2-16ce12ba9cd2"
      },
      "cell_type": "code",
      "source": [
        "model.summary()"
      ],
      "execution_count": 13,
      "outputs": [
        {
          "output_type": "stream",
          "text": [
            "_________________________________________________________________\n",
            "Layer (type)                 Output Shape              Param #   \n",
            "=================================================================\n",
            "conv2d_5 (Conv2D)            (None, 28, 28, 32)        832       \n",
            "_________________________________________________________________\n",
            "max_pooling2d_5 (MaxPooling2 (None, 14, 14, 32)        0         \n",
            "_________________________________________________________________\n",
            "conv2d_6 (Conv2D)            (None, 14, 14, 64)        51264     \n",
            "_________________________________________________________________\n",
            "max_pooling2d_6 (MaxPooling2 (None, 7, 7, 64)          0         \n",
            "_________________________________________________________________\n",
            "flatten_3 (Flatten)          (None, 3136)              0         \n",
            "_________________________________________________________________\n",
            "dense_5 (Dense)              (None, 128)               401536    \n",
            "_________________________________________________________________\n",
            "dropout_3 (Dropout)          (None, 128)               0         \n",
            "_________________________________________________________________\n",
            "dense_6 (Dense)              (None, 10)                1290      \n",
            "=================================================================\n",
            "Total params: 454,922\n",
            "Trainable params: 454,922\n",
            "Non-trainable params: 0\n",
            "_________________________________________________________________\n"
          ],
          "name": "stdout"
        }
      ]
    },
    {
      "metadata": {
        "id": "4XZf__EqgjjG",
        "colab_type": "text"
      },
      "cell_type": "markdown",
      "source": [
        "From the results above, we can see that, by the 30th Epoch, the accuracy is 0.9265 and the loss is 0.2013, which are quite satisfying. They show that this model has a good performance on Fashion Mnist dataset. "
      ]
    },
    {
      "metadata": {
        "id": "6oJAmNLvgwhx",
        "colab_type": "text"
      },
      "cell_type": "markdown",
      "source": [
        "## 2.2.  Transfer Learning"
      ]
    },
    {
      "metadata": {
        "id": "KeLVgqMNg1GW",
        "colab_type": "text"
      },
      "cell_type": "markdown",
      "source": [
        "Repeat the same task, but this time utilize a pre-trained network for the majority\n",
        "of your model. You should only train the final Dense layer, all other weightsshould be fixed. You can use whichever pre-trained backbone you like (ResNet,\n",
        "VGG, etc). Report on your model’s performance on training set and test set."
      ]
    },
    {
      "metadata": {
        "id": "8yXFoXRyg71A",
        "colab_type": "code",
        "colab": {
          "base_uri": "https://localhost:8080/",
          "height": 34
        },
        "outputId": "540ba120-cf99-4e73-8208-4c3255072e9d"
      },
      "cell_type": "code",
      "source": [
        "(X_train, y_train), (X_test, y_test) = fashion_mnist.load_data()\n",
        "\n",
        "X_train = [cv2.cvtColor(cv2.resize(i,(32,32)), cv2.COLOR_GRAY2BGR) for i in X_train]\n",
        "X_train = np.concatenate([arr[np.newaxis] for arr in X_train]).astype('float32')\n",
        " \n",
        "X_test  = [cv2.cvtColor(cv2.resize(i,(32,32)), cv2.COLOR_GRAY2BGR) for i in X_test ]\n",
        "X_test  = np.concatenate([arr[np.newaxis] for arr in X_test] ).astype('float32')\n",
        "\n",
        "print(X_train.shape)"
      ],
      "execution_count": 48,
      "outputs": [
        {
          "output_type": "stream",
          "text": [
            "(60000, 32, 32, 3)\n"
          ],
          "name": "stdout"
        }
      ]
    },
    {
      "metadata": {
        "id": "kG7lWJo9pvCF",
        "colab_type": "code",
        "colab": {
          "base_uri": "https://localhost:8080/",
          "height": 272
        },
        "outputId": "1b5163bd-54bd-4dd3-96df-2b6e4c657fcd"
      },
      "cell_type": "code",
      "source": [
        "conv_base = VGG16(weights=\"imagenet\",include_top=False,input_shape=(32,32,3))\n",
        "model = Sequential()\n",
        "model.add(conv_base)\n",
        "model.add(Flatten())\n",
        "model.add(Dense(256, activation=\"relu\"))\n",
        "model.add(Dense(10, activation=\"sigmoid\"))\n",
        "model.summary()"
      ],
      "execution_count": 49,
      "outputs": [
        {
          "output_type": "stream",
          "text": [
            "_________________________________________________________________\n",
            "Layer (type)                 Output Shape              Param #   \n",
            "=================================================================\n",
            "vgg16 (Model)                (None, 1, 1, 512)         14714688  \n",
            "_________________________________________________________________\n",
            "flatten_13 (Flatten)         (None, 512)               0         \n",
            "_________________________________________________________________\n",
            "dense_25 (Dense)             (None, 256)               131328    \n",
            "_________________________________________________________________\n",
            "dense_26 (Dense)             (None, 10)                2570      \n",
            "=================================================================\n",
            "Total params: 14,848,586\n",
            "Trainable params: 14,848,586\n",
            "Non-trainable params: 0\n",
            "_________________________________________________________________\n"
          ],
          "name": "stdout"
        }
      ]
    },
    {
      "metadata": {
        "id": "ZzOvNhHur3G_",
        "colab_type": "code",
        "colab": {
          "base_uri": "https://localhost:8080/",
          "height": 374
        },
        "outputId": "8aa534bd-492a-44e8-8192-e92aeb57dd63"
      },
      "cell_type": "code",
      "source": [
        "def build_dim(y):\n",
        "    y_m = np.zeros(10)\n",
        "    y_m[y] = 1\n",
        "    return y_m\n",
        "    \n",
        "y_train = np.array([build_dim(y_train[i]) for i in range(len(y_train))])\n",
        "y_test  = np.array([build_dim(y_test [i]) for i in range(len(y_test ))])\n",
        "\n",
        "conv_base.trainable = False\n",
        "model.compile(loss=\"binary_crossentropy\", optimizer=RMSprop(1e-4),metrics=[\"acc\"])\n",
        "model.fit(X_train, y_train, epochs=10, batch_size = 64)\n"
      ],
      "execution_count": 50,
      "outputs": [
        {
          "output_type": "stream",
          "text": [
            "Epoch 1/10\n",
            "60000/60000 [==============================] - 26s 437us/step - loss: 0.2716 - acc: 0.9383\n",
            "Epoch 2/10\n",
            "60000/60000 [==============================] - 25s 419us/step - loss: 0.1234 - acc: 0.9604\n",
            "Epoch 3/10\n",
            "60000/60000 [==============================] - 25s 419us/step - loss: 0.1018 - acc: 0.9652\n",
            "Epoch 4/10\n",
            "60000/60000 [==============================] - 25s 419us/step - loss: 0.0906 - acc: 0.9678\n",
            "Epoch 5/10\n",
            "60000/60000 [==============================] - 25s 418us/step - loss: 0.0833 - acc: 0.9700\n",
            "Epoch 6/10\n",
            "60000/60000 [==============================] - 25s 418us/step - loss: 0.0779 - acc: 0.9715\n",
            "Epoch 7/10\n",
            "60000/60000 [==============================] - 25s 418us/step - loss: 0.0740 - acc: 0.9728\n",
            "Epoch 8/10\n",
            "60000/60000 [==============================] - 25s 416us/step - loss: 0.0705 - acc: 0.9738\n",
            "Epoch 9/10\n",
            "60000/60000 [==============================] - 25s 417us/step - loss: 0.0677 - acc: 0.9747\n",
            "Epoch 10/10\n",
            "60000/60000 [==============================] - 25s 417us/step - loss: 0.0653 - acc: 0.9755\n"
          ],
          "name": "stdout"
        },
        {
          "output_type": "execute_result",
          "data": {
            "text/plain": [
              "<keras.callbacks.History at 0x7f6291713cc0>"
            ]
          },
          "metadata": {
            "tags": []
          },
          "execution_count": 50
        }
      ]
    },
    {
      "metadata": {
        "id": "JWaTKNOd4Mrd",
        "colab_type": "code",
        "colab": {
          "base_uri": "https://localhost:8080/",
          "height": 51
        },
        "outputId": "66b87e01-06f1-4b68-8a81-9935d85447ce"
      },
      "cell_type": "code",
      "source": [
        "model.evaluate(X_test, y_test)"
      ],
      "execution_count": 51,
      "outputs": [
        {
          "output_type": "stream",
          "text": [
            "10000/10000 [==============================] - 6s 611us/step\n"
          ],
          "name": "stdout"
        },
        {
          "output_type": "execute_result",
          "data": {
            "text/plain": [
              "[0.09201093460321426, 0.9675000000953674]"
            ]
          },
          "metadata": {
            "tags": []
          },
          "execution_count": 51
        }
      ]
    },
    {
      "metadata": {
        "id": "9vYZCr3C4ZHA",
        "colab_type": "text"
      },
      "cell_type": "markdown",
      "source": [
        "From the results above, we can see that the accuracy for both train and test sets are over 0.96. The result shows that the pretrained model has good performance on Fashion Mnist dataset. "
      ]
    },
    {
      "metadata": {
        "id": "nOHH8gIG4uWg",
        "colab_type": "text"
      },
      "cell_type": "markdown",
      "source": [
        "## 3. Text Classification"
      ]
    },
    {
      "metadata": {
        "id": "o8dCgNBs5Nm-",
        "colab_type": "text"
      },
      "cell_type": "markdown",
      "source": [
        "Build and train a Recurrent Neural Network to solve this text classification task.\n",
        "You can use any type of RNN you wish (SimpleRNN, GRU, LSTM)."
      ]
    },
    {
      "metadata": {
        "id": "PHUoLbKu6hgN",
        "colab_type": "code",
        "colab": {}
      },
      "cell_type": "code",
      "source": [
        "malicious = requests.get('https://s3.amazonaws.com/anly-590/url-classification/malicious-urls.txt').text.split('\\n')\n",
        "benign = requests.get('https://s3.amazonaws.com/anly-590/url-classification/benign-urls.txt').text.split('\\n')\n",
        "text = malicious + benign\n",
        "\n",
        "label = [0 for _ in range(len(benign))]+[1 for _ in range(len(malicious))]\n",
        "\n",
        "text_train,text_test,label_train,label_test = train_test_split(text,label,test_size=0.1)"
      ],
      "execution_count": 0,
      "outputs": []
    },
    {
      "metadata": {
        "id": "OsXOlzbI7MHi",
        "colab_type": "code",
        "colab": {}
      },
      "cell_type": "code",
      "source": [
        "MAX_NUM_WORDS = 500 \n",
        "MAX_SEQUENCE_LENGTH = 50 \n",
        "\n",
        "tokenizer = Tokenizer(num_words=MAX_NUM_WORDS)\n",
        "tokenizer.fit_on_texts(text)\n",
        "train_sequences = tokenizer.texts_to_sequences(text_train) \n",
        "test_sequences = tokenizer.texts_to_sequences(text_test)"
      ],
      "execution_count": 0,
      "outputs": []
    },
    {
      "metadata": {
        "id": "kQiyucUa8dCn",
        "colab_type": "code",
        "colab": {
          "base_uri": "https://localhost:8080/",
          "height": 34
        },
        "outputId": "40690390-be23-490e-ffa9-160071fecae4"
      },
      "cell_type": "code",
      "source": [
        "print('Sample sequence: ' + ' '.join(str(e) for e in train_sequences[19]))"
      ],
      "execution_count": 27,
      "outputs": [
        {
          "output_type": "stream",
          "text": [
            "Sample sequence: 34 3 2 1\n"
          ],
          "name": "stdout"
        }
      ]
    },
    {
      "metadata": {
        "id": "vZSIkPCG9pjT",
        "colab_type": "code",
        "colab": {}
      },
      "cell_type": "code",
      "source": [
        "text_train_2 = pad_sequences(train_sequences,maxlen=MAX_NUM_WORDS)\n",
        "text_test_2 = pad_sequences(test_sequences,maxlen=MAX_NUM_WORDS)\n"
      ],
      "execution_count": 0,
      "outputs": []
    }
  ]
}